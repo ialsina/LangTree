{
 "cells": [
  {
   "cell_type": "code",
   "execution_count": null,
   "id": "d8e7cd50",
   "metadata": {},
   "outputs": [],
   "source": []
  },
  {
   "cell_type": "code",
   "execution_count": 1,
   "id": "70bf42ef",
   "metadata": {},
   "outputs": [],
   "source": [
    "import json\n",
    "import pathpy as pp"
   ]
  },
  {
   "cell_type": "code",
   "execution_count": 2,
   "id": "35f0b1d9",
   "metadata": {},
   "outputs": [
    {
     "ename": "FileNotFoundError",
     "evalue": "[Errno 2] No such file or directory: 'language_families.json'",
     "output_type": "error",
     "traceback": [
      "\u001b[0;31m---------------------------------------------------------------------------\u001b[0m",
      "\u001b[0;31mFileNotFoundError\u001b[0m                         Traceback (most recent call last)",
      "Input \u001b[0;32mIn [2]\u001b[0m, in \u001b[0;36m<module>\u001b[0;34m\u001b[0m\n\u001b[0;32m----> 1\u001b[0m \u001b[38;5;28;01mwith\u001b[39;00m \u001b[38;5;28;43mopen\u001b[39;49m\u001b[43m(\u001b[49m\u001b[38;5;124;43m'\u001b[39;49m\u001b[38;5;124;43mlanguage_families.json\u001b[39;49m\u001b[38;5;124;43m'\u001b[39;49m\u001b[43m,\u001b[49m\u001b[43m \u001b[49m\u001b[38;5;124;43m'\u001b[39;49m\u001b[38;5;124;43mr\u001b[39;49m\u001b[38;5;124;43m'\u001b[39;49m\u001b[43m)\u001b[49m \u001b[38;5;28;01mas\u001b[39;00m f:\n\u001b[1;32m      2\u001b[0m     families1 \u001b[38;5;241m=\u001b[39m json\u001b[38;5;241m.\u001b[39mloads(f\u001b[38;5;241m.\u001b[39mread())\n\u001b[1;32m      3\u001b[0m families \u001b[38;5;241m=\u001b[39m \u001b[38;5;28mlist\u001b[39m(families1\u001b[38;5;241m.\u001b[39mitems())\n",
      "\u001b[0;31mFileNotFoundError\u001b[0m: [Errno 2] No such file or directory: 'language_families.json'"
     ]
    }
   ],
   "source": [
    "with open('data/language_families.json', 'r') as f:\n",
    "    families1 = json.loads(f.read())\n",
    "families = list(families1.items())\n",
    "families = ('LANGUAGES', families)\n"
   ]
  },
  {
   "cell_type": "code",
   "execution_count": null,
   "id": "01e77cea",
   "metadata": {},
   "outputs": [],
   "source": [
    "indo = ('indo-european', families1['indo-european'])\n",
    "mongolic = ('mongolic', families1['mongolic'])"
   ]
  },
  {
   "cell_type": "code",
   "execution_count": null,
   "id": "54612ab8",
   "metadata": {},
   "outputs": [],
   "source": [
    "def clean_name(name):\n",
    "    out = name.replace('\\n', '')\n",
    "    out = out.split('[')[0]\n",
    "    out = out.split('(')[0]\n",
    "    out = out.strip()\n",
    "    return out"
   ]
  },
  {
   "cell_type": "code",
   "execution_count": null,
   "id": "21fac877",
   "metadata": {},
   "outputs": [],
   "source": [
    "def compat_name(directory, name):\n",
    "    n_try = name\n",
    "    n = 2\n",
    "    if name not in directory:\n",
    "        return name\n",
    "    else:\n",
    "        while n_try in directory:\n",
    "            n_try = name + str(n)\n",
    "            n += 1\n",
    "        return n_try\n",
    "\n",
    "compat_name(['a', 'b', 'b1'], 'b')"
   ]
  },
  {
   "cell_type": "code",
   "execution_count": null,
   "id": "7c79433f",
   "metadata": {},
   "outputs": [],
   "source": [
    "n = pp.Network()\n",
    "\n",
    "def walk(tup, depth=0):\n",
    "    assert len(tup) == 2\n",
    "    parent = tup[0]\n",
    "    e1 = clean_name(parent)\n",
    "    children = tup[1]\n",
    "    n.add_node(e1, depth=depth)\n",
    "    for child in children:\n",
    "        # Names must be new (hence function compat_name)\n",
    "        # otherwise new node is not added, and subsequent children are\n",
    "        # appended in the wrong place\n",
    "        e2_comp = compat_name(n.nodes.keys(), clean_name(child[0]))\n",
    "        n.add_node(e2_comp, depth=depth, is_final=len(child[1])==0)\n",
    "        n.add_edge(e1, e2_comp)\n",
    "        walk((e2_comp, child[1]), depth=depth+1)\n",
    "\n",
    "walk(indo)"
   ]
  },
  {
   "cell_type": "code",
   "execution_count": null,
   "id": "54d9627d",
   "metadata": {},
   "outputs": [],
   "source": [
    "def walk1(tup, n, depth=0):\n",
    "    assert len(tup) == 2\n",
    "    parent = tup[0]\n",
    "    e1 = clean_name(parent)\n",
    "    children = tup[1]\n",
    "    n.add_node(e1, depth=depth)\n",
    "    for child in children:\n",
    "        # Names must be new (hence function compat_name)\n",
    "        # otherwise new node is not added, and subsequent children are\n",
    "        # appended in the wrong place\n",
    "        e2_comp = compat_name(n.nodes.keys(), clean_name(child[0]))\n",
    "        n.add_node(e2_comp, depth=depth, is_final=len(child[1])==0)\n",
    "        n.add_edge(e1, e2_comp)\n",
    "        n = walk1((e2_comp, child[1]), n, depth=depth+1)\n",
    "    \n",
    "    return n\n",
    "\n",
    "def network(tup):\n",
    "    \n",
    "    return walk1(tup, pp.Network())\n",
    "\n",
    "fam_list = families[1]\n",
    "n_list = [network(fam) for fam in fam_list]"
   ]
  },
  {
   "cell_type": "code",
   "execution_count": null,
   "id": "3e3887d6",
   "metadata": {},
   "outputs": [],
   "source": [
    "super_n = pp.Network()\n",
    "for el in n_list:\n",
    "    super_n += el"
   ]
  },
  {
   "cell_type": "code",
   "execution_count": null,
   "id": "f63c145a",
   "metadata": {},
   "outputs": [],
   "source": [
    "blue = []\n",
    "red = []\n",
    "\n",
    "for node, pars in super_n.nodes.items():\n",
    "    if pars.get('is_final') is True:\n",
    "        red.append(node)\n",
    "\n",
    "pp.visualisation.plot(super_n, node_color={el: \"#FF6699\" for el in red}, force_alpha=0.1)"
   ]
  },
  {
   "cell_type": "code",
   "execution_count": null,
   "id": "f3332525",
   "metadata": {},
   "outputs": [],
   "source": []
  },
  {
   "cell_type": "code",
   "execution_count": null,
   "id": "78c556e1",
   "metadata": {},
   "outputs": [],
   "source": [
    "pp.visualisation.plot?"
   ]
  },
  {
   "cell_type": "code",
   "execution_count": null,
   "id": "778fdd2a",
   "metadata": {},
   "outputs": [],
   "source": [
    "sorted(list(n.nodes.keys()))"
   ]
  },
  {
   "cell_type": "code",
   "execution_count": null,
   "id": "7fb8e510",
   "metadata": {},
   "outputs": [],
   "source": [
    "n.nodes['Catalan']"
   ]
  },
  {
   "cell_type": "code",
   "execution_count": null,
   "id": "fccef6ed",
   "metadata": {},
   "outputs": [],
   "source": []
  },
  {
   "cell_type": "code",
   "execution_count": null,
   "id": "0f81773a",
   "metadata": {},
   "outputs": [],
   "source": [
    "n.nodes['Unclassified']"
   ]
  },
  {
   "cell_type": "code",
   "execution_count": null,
   "id": "1f593a15",
   "metadata": {},
   "outputs": [],
   "source": [
    "a = pp.Network()\n",
    "a.add_node('a')\n",
    "a.add_node('a')\n",
    "a.nodes"
   ]
  },
  {
   "cell_type": "code",
   "execution_count": null,
   "id": "5547ed54",
   "metadata": {},
   "outputs": [],
   "source": [
    "n.nodes['Catalan']"
   ]
  },
  {
   "cell_type": "code",
   "execution_count": null,
   "id": "b1a140c9",
   "metadata": {},
   "outputs": [],
   "source": [
    "n.nodes['indo-european']"
   ]
  },
  {
   "cell_type": "code",
   "execution_count": null,
   "id": "3dc816f3",
   "metadata": {},
   "outputs": [],
   "source": [
    "indo[1][0]"
   ]
  },
  {
   "cell_type": "code",
   "execution_count": null,
   "id": "f1d5ceaa",
   "metadata": {},
   "outputs": [],
   "source": [
    "families[1][2][1][0]"
   ]
  },
  {
   "cell_type": "code",
   "execution_count": null,
   "id": "9653357c",
   "metadata": {},
   "outputs": [],
   "source": [
    "\n",
    "children = families[1]\n",
    "for child in children:\n",
    "    for cchild in child[1]:\n",
    "        print(cchild[0])\n"
   ]
  },
  {
   "cell_type": "code",
   "execution_count": null,
   "id": "83b5f826",
   "metadata": {},
   "outputs": [],
   "source": [
    "n"
   ]
  },
  {
   "cell_type": "code",
   "execution_count": null,
   "id": "a610860c",
   "metadata": {},
   "outputs": [],
   "source": [
    "q"
   ]
  },
  {
   "cell_type": "code",
   "execution_count": null,
   "id": "aaf30839",
   "metadata": {},
   "outputs": [],
   "source": [
    "n = pp.Network()\n",
    "parent = n.add_node('LANGUAGES')\n",
    "for a, b in families:\n",
    "    n.add_edge(a, 'LANGUAGES')\n",
    "    for aa, bb in b:\n",
    "        n.add_edge(a, aa)\n",
    "n"
   ]
  },
  {
   "cell_type": "code",
   "execution_count": null,
   "id": "631995a4",
   "metadata": {},
   "outputs": [],
   "source": [
    "a = dict(a=1, b=2)\n",
    "list(a.items())"
   ]
  },
  {
   "cell_type": "code",
   "execution_count": null,
   "id": "3397e304",
   "metadata": {},
   "outputs": [],
   "source": [
    "n = pp.Network()\n",
    "n.add_node('a')\n",
    "n.add_edge('a', 'b')\n",
    "n"
   ]
  }
 ],
 "metadata": {
  "kernelspec": {
   "display_name": "Python 3 (ipykernel)",
   "language": "python",
   "name": "python3"
  },
  "language_info": {
   "codemirror_mode": {
    "name": "ipython",
    "version": 3
   },
   "file_extension": ".py",
   "mimetype": "text/x-python",
   "name": "python",
   "nbconvert_exporter": "python",
   "pygments_lexer": "ipython3",
   "version": "3.8.10"
  }
 },
 "nbformat": 4,
 "nbformat_minor": 5
}
