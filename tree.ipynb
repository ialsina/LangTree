{
 "cells": [
  {
   "cell_type": "code",
   "execution_count": 1,
   "id": "70bf42ef",
   "metadata": {},
   "outputs": [],
   "source": [
    "import json\n",
    "import pathpy as pp\n",
    "from utils import Node\n",
    "import pickle"
   ]
  },
  {
   "cell_type": "code",
   "execution_count": 2,
   "id": "35f0b1d9",
   "metadata": {},
   "outputs": [],
   "source": [
    "with open(\"data/node_tree.pickle\", \"rb\") as f:\n",
    "    tree = pickle.load(f)"
   ]
  },
  {
   "cell_type": "code",
   "execution_count": 3,
   "id": "54612ab8",
   "metadata": {},
   "outputs": [],
   "source": [
    "def clean_name(name):\n",
    "    out = name.replace('\\n', '')\n",
    "    out = out.split('[')[0]\n",
    "    out = out.split('(')[0]\n",
    "    out = out.strip()\n",
    "    return out"
   ]
  },
  {
   "cell_type": "code",
   "execution_count": 4,
   "id": "21fac877",
   "metadata": {},
   "outputs": [
    {
     "data": {
      "text/plain": [
       "'b2'"
      ]
     },
     "execution_count": 4,
     "metadata": {},
     "output_type": "execute_result"
    }
   ],
   "source": [
    "def compat_name(directory, name):\n",
    "    n_try = name\n",
    "    n = 2\n",
    "    if name not in directory:\n",
    "        return name\n",
    "    else:\n",
    "        while n_try in directory:\n",
    "            n_try = name + str(n)\n",
    "            n += 1\n",
    "        return n_try\n",
    "\n",
    "compat_name(['a', 'b', 'b1'], 'b')"
   ]
  },
  {
   "cell_type": "code",
   "execution_count": 5,
   "id": "7c79433f",
   "metadata": {},
   "outputs": [],
   "source": [
    "def walk(node, alias=None, n=pp.Network(directed=False), depth=0):\n",
    "    e1 = alias or node.name\n",
    "    children = node.children\n",
    "    if e1 not in list(n.nodes.keys()):\n",
    "        n.add_node(e1, depth=depth)\n",
    "    for child in children:\n",
    "        # Names must be new (hence function compat_name)\n",
    "        # otherwise new node is not added, and subsequent children are\n",
    "        # appended in the wrong place\n",
    "        e2_comp = compat_name(n.nodes.keys(), clean_name(child.name))\n",
    "        n.add_node(e2_comp, depth=depth, is_terminal=child.is_terminal)\n",
    "        n.add_edge(e1, e2_comp)\n",
    "        assert n is not None\n",
    "        n = walk(child, alias=e2_comp, n=n, depth=depth+1)\n",
    "    \n",
    "    return n\n",
    "\n",
    "network = walk\n",
    "\n",
    "n = network(tree['uralic'], n=pp.Network())"
   ]
  },
  {
   "cell_type": "code",
   "execution_count": 6,
   "id": "790cd18e",
   "metadata": {},
   "outputs": [
    {
     "data": {
      "text/plain": [
       "54"
      ]
     },
     "execution_count": 6,
     "metadata": {},
     "output_type": "execute_result"
    }
   ],
   "source": [
    "nodes = list(n.nodes.keys())\n",
    "edges = list(n.edges)\n",
    "len(nodes)"
   ]
  },
  {
   "cell_type": "code",
   "execution_count": 7,
   "id": "ef83e0f6",
   "metadata": {},
   "outputs": [
    {
     "data": {
      "text/plain": [
       "[]"
      ]
     },
     "execution_count": 7,
     "metadata": {},
     "output_type": "execute_result"
    }
   ],
   "source": [
    "res = []\n",
    "search = 'Northwestern'\n",
    "for el in edges:\n",
    "    if search in el[0] or search in el[1]:\n",
    "        res.append(el)\n",
    "res"
   ]
  },
  {
   "cell_type": "code",
   "execution_count": 8,
   "id": "6c2566ef",
   "metadata": {},
   "outputs": [
    {
     "ename": "TypeError",
     "evalue": "object of type 'Network' has no len()",
     "output_type": "error",
     "traceback": [
      "\u001b[0;31m---------------------------------------------------------------------------\u001b[0m",
      "\u001b[0;31mTypeError\u001b[0m                                 Traceback (most recent call last)",
      "Input \u001b[0;32mIn [8]\u001b[0m, in \u001b[0;36m<module>\u001b[0;34m\u001b[0m\n\u001b[1;32m      2\u001b[0m tt\u001b[38;5;241m.\u001b[39madd_node(\u001b[38;5;124m'\u001b[39m\u001b[38;5;124ma\u001b[39m\u001b[38;5;124m'\u001b[39m)\n\u001b[1;32m      3\u001b[0m tt\u001b[38;5;241m.\u001b[39madd_node(\u001b[38;5;124m'\u001b[39m\u001b[38;5;124ma\u001b[39m\u001b[38;5;124m'\u001b[39m)\n\u001b[0;32m----> 4\u001b[0m \u001b[38;5;28;43mlen\u001b[39;49m\u001b[43m(\u001b[49m\u001b[43mtt\u001b[49m\u001b[43m)\u001b[49m\n",
      "\u001b[0;31mTypeError\u001b[0m: object of type 'Network' has no len()"
     ]
    }
   ],
   "source": [
    "tt = pp.Network()\n",
    "tt.add_node('a')\n",
    "tt.add_node('a')\n",
    "len(tt)"
   ]
  },
  {
   "cell_type": "code",
   "execution_count": 9,
   "id": "f63c145a",
   "metadata": {},
   "outputs": [
    {
     "data": {
      "text/html": [
       "<style>\n",
       "    text.label_kqJDwfGP {\n",
       "        text-anchor: middle;\n",
       "        font-size: 8px;\n",
       "        font-family: Arial, Helvetica, sans-serif;\n",
       "        fill: #999999;\n",
       "        stroke: #ffffff;\n",
       "        stroke-width: 0.1px;\n",
       "        opacity: 1.0;\n",
       "    }\n",
       "    .links_kqJDwfGP line {\n",
       "    stroke-opacity: 1.0;\n",
       "    }\n",
       "    .arrows svg:path {\n",
       "        stroke: #666;\n",
       "    }\n",
       "    .nodes_kqJDwfGP circle {\n",
       "    stroke: #fff;\n",
       "    stroke-width: 0.5px;\n",
       "    }\n",
       "</style>\n",
       "\n",
       "<svg width=\"1000\" height=\"1000\" id=\"kqJDwfGP\">        \n",
       "    <text x=\"20\" y=\"20\" font-family=\"sans-serif\" font-size=\"14px\" fill=\"#666\" style=\"cursor: pointer\"\n",
       "        id='kqJDwfGP_svg_txt'>[save svg]</text>\n",
       "</svg>\n",
       "\n",
       "<script charset=\"utf-8\" src=\"https://d3js.org/d3.v4.min.js\"></script>\n",
       "<script charset=\"utf-8\">\n",
       "\n",
       "// Load via requireJS if available (jupyter notebook environment)\n",
       "try {\n",
       "    // Problem: require.config will raise an exception when called for the second time \n",
       "    require.config({\n",
       "        paths: {\n",
       "            //d3: \"https://d3js.org/d3.v4.min\"\n",
       "            d3: \"https://d3js.org/d3.v4.min.js\".replace(\".js\", \"\")\n",
       "        }\n",
       "    });\n",
       "    console.log(\"Detected requireJS\");\n",
       "}\n",
       "catch(err){\n",
       "    // a reference error indicates that requireJS does not exist. \n",
       "    // other errors may occur due to multiple calls to config\n",
       "    if (err instanceof ReferenceError){\n",
       "        console.log(\"Detected no requireJS\");\n",
       "\n",
       "        // Helper function that waits for d3js to be loaded\n",
       "        require = function require(symbols, callback) {\n",
       "            var ms = 5;\n",
       "            window.setTimeout(function(t) {\n",
       "                if (window[symbols[0]])\n",
       "                    callback(window[symbols[0]]);\n",
       "                else \n",
       "                    window.setTimeout(arguments.callee, ms);\n",
       "            }, ms);\n",
       "        }\n",
       "    }\n",
       "}\n",
       "\n",
       "// wait until d3js has been loaded\n",
       "require([\"d3\"], function(d3) {\n",
       "    var svg = d3.select(\"#\"+\"kqJDwfGP\"), radius = 6, width = +svg.attr(\"width\"), height = +svg.attr(\"height\");\n",
       "\n",
       "    var color = d3.scaleOrdinal(d3.schemeCategory20);\n",
       "\n",
       "    var graph = {\"links\": [{\"source\": \"Hungarian\", \"target\": \"Uralic\", \"color\": \"#999999\", \"width\": 0.5, \"weight\": 0.5}, {\"source\": \"Khanty\", \"target\": \"Uralic\", \"color\": \"#999999\", \"width\": 0.5, \"weight\": 0.5}, {\"source\": \"Mansi\", \"target\": \"Uralic\", \"color\": \"#999999\", \"width\": 0.5, \"weight\": 0.5}, {\"source\": \"Finnic\", \"target\": \"Uralic\", \"color\": \"#999999\", \"width\": 0.5, \"weight\": 0.05555555555555555}, {\"source\": \"Estonian, Standard\", \"target\": \"Finnic\", \"color\": \"#999999\", \"width\": 0.5, \"weight\": 0.5}, {\"source\": \"Finnic\", \"target\": \"Finnish\", \"color\": \"#999999\", \"width\": 0.5, \"weight\": 0.5}, {\"source\": \"Finnic\", \"target\": \"Finnish, Kven\", \"color\": \"#999999\", \"width\": 0.5, \"weight\": 0.5}, {\"source\": \"Finnic\", \"target\": \"Ingrian\", \"color\": \"#999999\", \"width\": 0.5, \"weight\": 0.5}, {\"source\": \"Finnic\", \"target\": \"Karelian\", \"color\": \"#999999\", \"width\": 0.5, \"weight\": 0.5}, {\"source\": \"Finnic\", \"target\": \"Liv\", \"color\": \"#999999\", \"width\": 0.5, \"weight\": 0.5}, {\"source\": \"Finnic\", \"target\": \"Livvi-Karelian\", \"color\": \"#999999\", \"width\": 0.5, \"weight\": 0.5}, {\"source\": \"Finnic\", \"target\": \"Ludian\", \"color\": \"#999999\", \"width\": 0.5, \"weight\": 0.5}, {\"source\": \"Finnic\", \"target\": \"Me\\u00e4nkieli\", \"color\": \"#999999\", \"width\": 0.5, \"weight\": 0.5}, {\"source\": \"Finnic\", \"target\": \"Veps\", \"color\": \"#999999\", \"width\": 0.5, \"weight\": 0.5}, {\"source\": \"Finnic\", \"target\": \"Vod\", \"color\": \"#999999\", \"width\": 0.5, \"weight\": 0.5}, {\"source\": \"Finnic\", \"target\": \"V\\u00f5ro\", \"color\": \"#999999\", \"width\": 0.5, \"weight\": 0.5}, {\"source\": \"Mari\", \"target\": \"Uralic\", \"color\": \"#999999\", \"width\": 0.5, \"weight\": 0.16666666666666666}, {\"source\": \"Mari\", \"target\": \"Mari, Hill\", \"color\": \"#999999\", \"width\": 0.5, \"weight\": 0.5}, {\"source\": \"Mari\", \"target\": \"Mari, Meadow\", \"color\": \"#999999\", \"width\": 0.5, \"weight\": 0.5}, {\"source\": \"Mordvin\", \"target\": \"Uralic\", \"color\": \"#999999\", \"width\": 0.5, \"weight\": 0.16666666666666666}, {\"source\": \"Erzya\", \"target\": \"Mordvin\", \"color\": \"#999999\", \"width\": 0.5, \"weight\": 0.5}, {\"source\": \"Moksha\", \"target\": \"Mordvin\", \"color\": \"#999999\", \"width\": 0.5, \"weight\": 0.5}, {\"source\": \"Permian\", \"target\": \"Uralic\", \"color\": \"#999999\", \"width\": 0.5, \"weight\": 0.16666666666666666}, {\"source\": \"Permian\", \"target\": \"Udmurt\", \"color\": \"#999999\", \"width\": 0.5, \"weight\": 0.5}, {\"source\": \"Komi\", \"target\": \"Permian\", \"color\": \"#999999\", \"width\": 0.5, \"weight\": 0.16666666666666666}, {\"source\": \"Komi\", \"target\": \"Komi-Permyak\", \"color\": \"#999999\", \"width\": 0.5, \"weight\": 0.5}, {\"source\": \"Komi\", \"target\": \"Komi-Zyrian\", \"color\": \"#999999\", \"width\": 0.5, \"weight\": 0.5}, {\"source\": \"Sami\", \"target\": \"Uralic\", \"color\": \"#999999\", \"width\": 0.5, \"weight\": 0.125}, {\"source\": \"Eastern\", \"target\": \"Sami\", \"color\": \"#999999\", \"width\": 0.5, \"weight\": 0.125}, {\"source\": \"Eastern\", \"target\": \"Saami, Akkala\", \"color\": \"#999999\", \"width\": 0.5, \"weight\": 0.5}, {\"source\": \"Eastern\", \"target\": \"Saami, Inari\", \"color\": \"#999999\", \"width\": 0.5, \"weight\": 0.5}, {\"source\": \"Eastern\", \"target\": \"Saami, Kildin\", \"color\": \"#999999\", \"width\": 0.5, \"weight\": 0.5}, {\"source\": \"Eastern\", \"target\": \"Saami, Skolt\", \"color\": \"#999999\", \"width\": 0.5, \"weight\": 0.5}, {\"source\": \"Eastern\", \"target\": \"Saami, Ter\", \"color\": \"#999999\", \"width\": 0.5, \"weight\": 0.5}, {\"source\": \"Sami\", \"target\": \"Southern\", \"color\": \"#999999\", \"width\": 0.5, \"weight\": 0.25}, {\"source\": \"Saami, Ume\", \"target\": \"Southern\", \"color\": \"#999999\", \"width\": 0.5, \"weight\": 0.5}, {\"source\": \"Sami\", \"target\": \"Western\", \"color\": \"#999999\", \"width\": 0.5, \"weight\": 0.16666666666666666}, {\"source\": \"Northern\", \"target\": \"Western\", \"color\": \"#999999\", \"width\": 0.5, \"weight\": 0.16666666666666666}, {\"source\": \"Northern\", \"target\": \"Saami, Lule\", \"color\": \"#999999\", \"width\": 0.5, \"weight\": 0.5}, {\"source\": \"Northern\", \"target\": \"Saami, North\", \"color\": \"#999999\", \"width\": 0.5, \"weight\": 0.5}, {\"source\": \"Northern\", \"target\": \"Saami, Pite\", \"color\": \"#999999\", \"width\": 0.5, \"weight\": 0.5}, {\"source\": \"Southern2\", \"target\": \"Western\", \"color\": \"#999999\", \"width\": 0.5, \"weight\": 0.25}, {\"source\": \"Saami, South\", \"target\": \"Southern2\", \"color\": \"#999999\", \"width\": 0.5, \"weight\": 0.5}, {\"source\": \"Samoyed\", \"target\": \"Uralic\", \"color\": \"#999999\", \"width\": 0.5, \"weight\": 0.16666666666666666}, {\"source\": \"Northern Samoyed\", \"target\": \"Samoyed\", \"color\": \"#999999\", \"width\": 0.5, \"weight\": 0.16666666666666666}, {\"source\": \"Nenets\", \"target\": \"Northern Samoyed\", \"color\": \"#999999\", \"width\": 0.5, \"weight\": 0.5}, {\"source\": \"Nganasan\", \"target\": \"Northern Samoyed\", \"color\": \"#999999\", \"width\": 0.5, \"weight\": 0.5}, {\"source\": \"Enets\", \"target\": \"Northern Samoyed\", \"color\": \"#999999\", \"width\": 0.5, \"weight\": 0.16666666666666666}, {\"source\": \"Enets\", \"target\": \"Enets, Forest\", \"color\": \"#999999\", \"width\": 0.5, \"weight\": 0.5}, {\"source\": \"Enets\", \"target\": \"Enets, Tundra\", \"color\": \"#999999\", \"width\": 0.5, \"weight\": 0.5}, {\"source\": \"Samoyed\", \"target\": \"Southern Samoyed\", \"color\": \"#999999\", \"width\": 0.5, \"weight\": 0.16666666666666666}, {\"source\": \"Kamas\", \"target\": \"Southern Samoyed\", \"color\": \"#999999\", \"width\": 0.5, \"weight\": 0.5}, {\"source\": \"Selkup\", \"target\": \"Southern Samoyed\", \"color\": \"#999999\", \"width\": 0.5, \"weight\": 0.5}], \"nodes\": [{\"id\": \"Uralic\", \"text\": \"Uralic\", \"color\": \"#000000\", \"size\": 5.0}, {\"id\": \"Hungarian\", \"text\": \"Hungarian\", \"color\": \"#FF6699\", \"size\": 5.0}, {\"id\": \"Khanty\", \"text\": \"Khanty\", \"color\": \"#FF6699\", \"size\": 5.0}, {\"id\": \"Mansi\", \"text\": \"Mansi\", \"color\": \"#FF6699\", \"size\": 5.0}, {\"id\": \"Finnic\", \"text\": \"Finnic\", \"color\": \"#99ccff\", \"size\": 5.0}, {\"id\": \"Estonian, Standard\", \"text\": \"Estonian, Standard\", \"color\": \"#FF6699\", \"size\": 5.0}, {\"id\": \"Finnish\", \"text\": \"Finnish\", \"color\": \"#FF6699\", \"size\": 5.0}, {\"id\": \"Finnish, Kven\", \"text\": \"Finnish, Kven\", \"color\": \"#FF6699\", \"size\": 5.0}, {\"id\": \"Ingrian\", \"text\": \"Ingrian\", \"color\": \"#FF6699\", \"size\": 5.0}, {\"id\": \"Karelian\", \"text\": \"Karelian\", \"color\": \"#FF6699\", \"size\": 5.0}, {\"id\": \"Liv\", \"text\": \"Liv\", \"color\": \"#FF6699\", \"size\": 5.0}, {\"id\": \"Livvi-Karelian\", \"text\": \"Livvi-Karelian\", \"color\": \"#FF6699\", \"size\": 5.0}, {\"id\": \"Ludian\", \"text\": \"Ludian\", \"color\": \"#FF6699\", \"size\": 5.0}, {\"id\": \"Me\\u00e4nkieli\", \"text\": \"Me\\u00e4nkieli\", \"color\": \"#FF6699\", \"size\": 5.0}, {\"id\": \"Veps\", \"text\": \"Veps\", \"color\": \"#FF6699\", \"size\": 5.0}, {\"id\": \"Vod\", \"text\": \"Vod\", \"color\": \"#FF6699\", \"size\": 5.0}, {\"id\": \"V\\u00f5ro\", \"text\": \"V\\u00f5ro\", \"color\": \"#FF6699\", \"size\": 5.0}, {\"id\": \"Mari\", \"text\": \"Mari\", \"color\": \"#99ccff\", \"size\": 5.0}, {\"id\": \"Mari, Hill\", \"text\": \"Mari, Hill\", \"color\": \"#FF6699\", \"size\": 5.0}, {\"id\": \"Mari, Meadow\", \"text\": \"Mari, Meadow\", \"color\": \"#FF6699\", \"size\": 5.0}, {\"id\": \"Mordvin\", \"text\": \"Mordvin\", \"color\": \"#99ccff\", \"size\": 5.0}, {\"id\": \"Erzya\", \"text\": \"Erzya\", \"color\": \"#FF6699\", \"size\": 5.0}, {\"id\": \"Moksha\", \"text\": \"Moksha\", \"color\": \"#FF6699\", \"size\": 5.0}, {\"id\": \"Permian\", \"text\": \"Permian\", \"color\": \"#99ccff\", \"size\": 5.0}, {\"id\": \"Udmurt\", \"text\": \"Udmurt\", \"color\": \"#FF6699\", \"size\": 5.0}, {\"id\": \"Komi\", \"text\": \"Komi\", \"color\": \"#99ccff\", \"size\": 5.0}, {\"id\": \"Komi-Permyak\", \"text\": \"Komi-Permyak\", \"color\": \"#FF6699\", \"size\": 5.0}, {\"id\": \"Komi-Zyrian\", \"text\": \"Komi-Zyrian\", \"color\": \"#FF6699\", \"size\": 5.0}, {\"id\": \"Sami\", \"text\": \"Sami\", \"color\": \"#99ccff\", \"size\": 5.0}, {\"id\": \"Eastern\", \"text\": \"Eastern\", \"color\": \"#99ccff\", \"size\": 5.0}, {\"id\": \"Saami, Akkala\", \"text\": \"Saami, Akkala\", \"color\": \"#FF6699\", \"size\": 5.0}, {\"id\": \"Saami, Inari\", \"text\": \"Saami, Inari\", \"color\": \"#FF6699\", \"size\": 5.0}, {\"id\": \"Saami, Kildin\", \"text\": \"Saami, Kildin\", \"color\": \"#FF6699\", \"size\": 5.0}, {\"id\": \"Saami, Skolt\", \"text\": \"Saami, Skolt\", \"color\": \"#FF6699\", \"size\": 5.0}, {\"id\": \"Saami, Ter\", \"text\": \"Saami, Ter\", \"color\": \"#FF6699\", \"size\": 5.0}, {\"id\": \"Southern\", \"text\": \"Southern\", \"color\": \"#99ccff\", \"size\": 5.0}, {\"id\": \"Saami, Ume\", \"text\": \"Saami, Ume\", \"color\": \"#FF6699\", \"size\": 5.0}, {\"id\": \"Western\", \"text\": \"Western\", \"color\": \"#99ccff\", \"size\": 5.0}, {\"id\": \"Northern\", \"text\": \"Northern\", \"color\": \"#99ccff\", \"size\": 5.0}, {\"id\": \"Saami, Lule\", \"text\": \"Saami, Lule\", \"color\": \"#FF6699\", \"size\": 5.0}, {\"id\": \"Saami, North\", \"text\": \"Saami, North\", \"color\": \"#FF6699\", \"size\": 5.0}, {\"id\": \"Saami, Pite\", \"text\": \"Saami, Pite\", \"color\": \"#FF6699\", \"size\": 5.0}, {\"id\": \"Southern2\", \"text\": \"Southern\", \"color\": \"#99ccff\", \"size\": 5.0}, {\"id\": \"Saami, South\", \"text\": \"Saami, South\", \"color\": \"#FF6699\", \"size\": 5.0}, {\"id\": \"Samoyed\", \"text\": \"Samoyed\", \"color\": \"#99ccff\", \"size\": 5.0}, {\"id\": \"Northern Samoyed\", \"text\": \"Northern Samoyed\", \"color\": \"#99ccff\", \"size\": 5.0}, {\"id\": \"Nenets\", \"text\": \"Nenets\", \"color\": \"#FF6699\", \"size\": 5.0}, {\"id\": \"Nganasan\", \"text\": \"Nganasan\", \"color\": \"#FF6699\", \"size\": 5.0}, {\"id\": \"Enets\", \"text\": \"Enets\", \"color\": \"#99ccff\", \"size\": 5.0}, {\"id\": \"Enets, Forest\", \"text\": \"Enets, Forest\", \"color\": \"#FF6699\", \"size\": 5.0}, {\"id\": \"Enets, Tundra\", \"text\": \"Enets, Tundra\", \"color\": \"#FF6699\", \"size\": 5.0}, {\"id\": \"Southern Samoyed\", \"text\": \"Southern Samoyed\", \"color\": \"#99ccff\", \"size\": 5.0}, {\"id\": \"Kamas\", \"text\": \"Kamas\", \"color\": \"#FF6699\", \"size\": 5.0}, {\"id\": \"Selkup\", \"text\": \"Selkup\", \"color\": \"#FF6699\", \"size\": 5.0}]};\n",
       "    var directed = false;\n",
       "\n",
       "    var simulation = d3.forceSimulation()        \n",
       "       .force(\"link\", d3.forceLink().id(function(d) { return d.id; }).strength(function(d){return d.weight;}))\n",
       "        .force(\"charge\", d3.forceManyBody().strength(-20).distanceMax(1000))\n",
       "       .force(\"repelForce\", d3.forceManyBody().strength(-10).distanceMax(100))\n",
       "       .force(\"center\", d3.forceCenter(1000 / 2, 1000 / 2))\n",
       "       .alphaTarget(0.2);\n",
       "\n",
       "    svg.append(\"defs\").selectAll(\"marker\")\n",
       "        .data([\"end\"])\n",
       "    .enter().append(\"marker\")\n",
       "        .attr(\"id\", String)\n",
       "        .attr(\"viewBox\", \"0 -5 20 20\")\n",
       "        .attr(\"refX\", 34)\n",
       "        .attr(\"refY\", 0)\n",
       "        .attr(\"markerWidth\", 15)\n",
       "        .attr(\"markerHeight\", 15)\n",
       "        .attr(\"orient\", \"auto\")\n",
       "    .append(\"path\")\n",
       "        // draws a filled path (triangle) between three points\n",
       "        .attr(\"d\", \"M0,-5 L20,0 L0,5 z\")\n",
       "        .attr(\"fill\", '#999')\n",
       "        .attr(\"stroke\", 'none');\n",
       "\n",
       "    var g = svg.append(\"g\")\n",
       "        .attr(\"class\", \"everything\");\n",
       "\n",
       "    var link = g.append(\"g\")\n",
       "        .attr(\"class\", \"links_kqJDwfGP\")\n",
       "        .selectAll(\"line\")\n",
       "        .data(graph.links)\n",
       "        .enter().append(\"line\")\n",
       "        .attr(\"stroke-width\", function(d) { return d.width; })\n",
       "        .attr(\"stroke\", function(d) { return d.color; } );\n",
       "\n",
       "    if (directed)\n",
       "        link.attr(\"marker-end\", \"url(#end)\");\n",
       "\n",
       "    var node_g = g.append(\"g\")\n",
       "        .attr(\"class\", \"nodes_kqJDwfGP\")\n",
       "        .selectAll(\"circle\")\n",
       "        .data(graph.nodes)\n",
       "        .enter()\n",
       "        .append(\"g\"); \n",
       "\n",
       "    var node = node_g.append(\"circle\")\n",
       "        .attr('id', function(d) { return d.id; })\n",
       "        .attr(\"r\", function(d) { return d.size; })\n",
       "        .attr(\"fill\", function(d) { return d.color; })\n",
       "        .call(d3.drag()\n",
       "            .on(\"start\", dragstarted)\n",
       "            .on(\"drag\", dragged)\n",
       "            .on(\"end\", dragended));\n",
       "\n",
       "    var text = node_g.append(\"text\")\n",
       "    .attr(\"x\", [0, -10][0])\n",
       "    .attr(\"y\", [0, -10][1]+3)\n",
       "    .attr(\"id\", function(d) {return d.id; })\n",
       "    .attr(\"class\", \"label_kqJDwfGP\")\n",
       "    .text(function(d) { return d.id; });\n",
       "\n",
       "    node.append(\"title\")\n",
       "        .text(function(d) { return d.text; });\n",
       "\n",
       "    var zoom_handler = d3.zoom()\n",
       "        .on(\"zoom\", zoom_actions);\n",
       "    zoom_handler(svg);\n",
       "\n",
       "    // attach event handler for svg export\n",
       "    d3.select('#kqJDwfGP_svg_txt').on(\"click\", save_svg);\n",
       "\n",
       "    simulation\n",
       "        .nodes(graph.nodes)\n",
       "        .on(\"tick\", ticked);\n",
       "\n",
       "    simulation.force(\"link\")\n",
       "        .links(graph.links);\n",
       "\n",
       "    function ticked() {\n",
       "        link.attr(\"x1\", function(d) { return d.source.x; })\n",
       "            .attr(\"y1\", function(d) { return d.source.y; })\n",
       "            .attr(\"x2\", function(d) { return d.target.x; })\n",
       "            .attr(\"y2\", function(d) { return d.target.y; });\n",
       "\n",
       "         text.attr(\"transform\", transform);\n",
       "\n",
       "\n",
       "        text.attr(\"cx\", function(d) { return d.x; })\n",
       "            .attr(\"cy\", function(d) { return d.y; });\n",
       "\n",
       "        node.attr(\"cx\", function(d) { return d.x; })\n",
       "            .attr(\"cy\", function(d) { return d.y; });\n",
       "    }\n",
       "\n",
       "    function transform(d) {\n",
       "        return \"translate(\" + d.x + \",\" + d.y + \")\";\n",
       "    }\n",
       "\n",
       "    function dragstarted(d) {\n",
       "    if (!d3.event.active) simulation.alphaTarget(0.3).restart();\n",
       "    d.fx = d.x;\n",
       "    d.fy = d.y;\n",
       "    }\n",
       "\n",
       "    function zoom_actions(){\n",
       "        g.attr(\"transform\", d3.event.transform)\n",
       "    }    \n",
       "\n",
       "    function dragged(d) {\n",
       "    d.fx = d3.event.x;\n",
       "    d.fy = d3.event.y;\n",
       "    }\n",
       "\n",
       "    function dragended(d) {\n",
       "    if (!d3.event.active) simulation.alphaTarget(0);\n",
       "    d.fx = null;\n",
       "    d.fy = null;\n",
       "    }\n",
       "\n",
       "    function to_svg() {\n",
       "        // Returns a SVG representation of the current state of the visualisation\n",
       "\t    var svg  = document.getElementById('kqJDwfGP');\n",
       "\t    var xml = (new XMLSerializer).serializeToString(svg);\n",
       "        return xml;\n",
       "    }\n",
       "\n",
       "    function save_svg() {\n",
       "        var svg  = document.getElementById('kqJDwfGP');\n",
       "        var xml = (new XMLSerializer).serializeToString(svg);        \n",
       "        var blob = new Blob([xml], {type: 'text/xml'});\n",
       "        if(window.navigator.msSaveOrOpenBlob) {\n",
       "            window.navigator.msSaveBlob(blob, 'network.svg');\n",
       "        }\n",
       "        else{\n",
       "            var elem = window.document.createElement('a');\n",
       "            elem.href = window.URL.createObjectURL(blob);\n",
       "            elem.download = 'network.svg';\n",
       "            document.body.appendChild(elem);\n",
       "            elem.click();\n",
       "            document.body.removeChild(elem);\n",
       "        }\n",
       "    }\n",
       "});\n",
       "</script>"
      ],
      "text/plain": [
       "<IPython.core.display.HTML object>"
      ]
     },
     "metadata": {},
     "output_type": "display_data"
    }
   ],
   "source": [
    "terminal = []\n",
    "\n",
    "for node, pars in n.nodes.items():\n",
    "    if pars.get('is_terminal') is True:\n",
    "        terminal.append(node)\n",
    "\n",
    "pp.visualisation.plot(n,\n",
    "                      height=1000,\n",
    "                      width=1000,\n",
    "                      node_color = {**{el: \"#FF6699\" for el in terminal}, **{\"Uralic\": \"#000000\"}},\n",
    "                      node_text = {el: ''.join([c for c in el if not c.isdigit()]) for el in n.nodes},\n",
    "                      force_alpha=0.2, force_repel=-10)"
   ]
  },
  {
   "cell_type": "code",
   "execution_count": 17,
   "id": "b4cb5713",
   "metadata": {},
   "outputs": [
    {
     "data": {
      "text/plain": [
       "598"
      ]
     },
     "execution_count": 17,
     "metadata": {},
     "output_type": "execute_result"
    }
   ],
   "source": [
    "len(n.nodes)"
   ]
  },
  {
   "cell_type": "code",
   "execution_count": 67,
   "id": "15776a91",
   "metadata": {},
   "outputs": [
    {
     "data": {
      "text/plain": [
       "'Kashmiri'"
      ]
     },
     "execution_count": 67,
     "metadata": {},
     "output_type": "execute_result"
    }
   ],
   "source": [
    "dd.get(\"Kashmiri2\")"
   ]
  }
 ],
 "metadata": {
  "kernelspec": {
   "display_name": "Python 3 (ipykernel)",
   "language": "python",
   "name": "python3"
  },
  "language_info": {
   "codemirror_mode": {
    "name": "ipython",
    "version": 3
   },
   "file_extension": ".py",
   "mimetype": "text/x-python",
   "name": "python",
   "nbconvert_exporter": "python",
   "pygments_lexer": "ipython3",
   "version": "3.8.10"
  }
 },
 "nbformat": 4,
 "nbformat_minor": 5
}
